{
 "cells": [
  {
   "cell_type": "code",
   "execution_count": null,
   "metadata": {},
   "outputs": [],
   "source": [
    "'''\n",
    "### Internal notebook for generating figures\n",
    "\n",
    "It is meant to be used from command line with `jupyter-nbconvert`\n",
    "\n",
    "```\n",
    "cd <results_folder>\n",
    "jupyter-nbconvert --execute --to html --output-dir . <path-to-this-notebook>\n",
    "```\n",
    "\n",
    "This will read pickle files from the current folder and generate various graphs and text reports.\n",
    "''';"
   ]
  },
  {
   "cell_type": "code",
   "execution_count": null,
   "metadata": {},
   "outputs": [],
   "source": [
    "%matplotlib inline\n",
    "from matplotlib import pyplot as plt\n",
    "import numpy as np\n",
    "import os\n",
    "import glob\n",
    "import pickle\n",
    "from types import SimpleNamespace\n",
    "import itertools\n",
    "from benchmark_rio_s3 import reports\n",
    "from benchmark_rio_s3.reports import unpack_stats, gen_stats_report, join_reports\n",
    "from benchmark_rio_s3.plots import plot_stats_results, plot_comparison, plot_results\n",
    "\n",
    "os.chdir(os.environ.get('PWD','.'))"
   ]
  },
  {
   "cell_type": "markdown",
   "metadata": {},
   "source": [
    "## Load data"
   ]
  },
  {
   "cell_type": "code",
   "execution_count": null,
   "metadata": {},
   "outputs": [],
   "source": [
    "xx_all = reports.load_dir()\n",
    "xx_time = reports.pick_best(xx_all, 'time')\n",
    "xx_throughput = reports.pick_best(xx_all, 'throughput')\n",
    "nthreads = np.array(sorted(xx_all.keys()))"
   ]
  },
  {
   "cell_type": "code",
   "execution_count": null,
   "metadata": {},
   "outputs": [],
   "source": [
    "figs = {}\n",
    "\n",
    "print('{:d} files, {:d} configurations, {:d}-{:d} threads'.format(\n",
    "    sum(len(x) for x in xx_all.values()),\n",
    "    nthreads.shape[0], nthreads.min(), nthreads.max()\n",
    "))"
   ]
  },
  {
   "cell_type": "markdown",
   "metadata": {},
   "source": [
    "## In depth stats for single threaded case"
   ]
  },
  {
   "cell_type": "code",
   "execution_count": null,
   "metadata": {},
   "outputs": [],
   "source": [
    "print(gen_stats_report(xx_time[1]))\n",
    "fig = plt.figure(figsize=(12,8))\n",
    "figs['single-thread-in-depth'] = fig\n",
    "\n",
    "plot_results(xx_time[1]._raw.stats, fig=fig);"
   ]
  },
  {
   "cell_type": "markdown",
   "metadata": {},
   "source": [
    "## Scaling with more threads"
   ]
  },
  {
   "cell_type": "code",
   "execution_count": null,
   "metadata": {},
   "outputs": [],
   "source": [
    "fig = plt.figure(figsize=(12,3))\n",
    "fig.tight_layout()\n",
    "figs['threads'] = fig\n",
    "\n",
    "best_idx = plot_stats_results(xx_throughput, fig=fig)"
   ]
  },
  {
   "cell_type": "markdown",
   "metadata": {},
   "source": [
    "## Single Thread vs Best Throughput"
   ]
  },
  {
   "cell_type": "code",
   "execution_count": null,
   "metadata": {},
   "outputs": [],
   "source": [
    "_reports = (gen_stats_report(xx_throughput[1], 'One Thread'),\n",
    "            gen_stats_report(xx_throughput[best_idx], 'Highest Throughput'))\n",
    "print(join_reports(*_reports))\n",
    "\n",
    "fig = plt.figure(figsize=(12,6))\n",
    "figs['comparison'] = fig\n",
    "\n",
    "plot_comparison(fig, [xx_throughput[1], xx_throughput[best_idx]],\n",
    "                      nochunk=True,\n",
    "                      threshs=[400, 200, 200],\n",
    "                      alpha=0.4,\n",
    "                      names=['c1', 'c{}'.format(best_idx)]);"
   ]
  },
  {
   "cell_type": "markdown",
   "metadata": {},
   "source": [
    "## Latency hiding graph"
   ]
  },
  {
   "cell_type": "code",
   "execution_count": null,
   "metadata": {},
   "outputs": [],
   "source": [
    "def add_hbar_plot(ax, st, n=None, height=1, **kwargs):\n",
    "    if n is None:\n",
    "        n = st.t0.shape[0]\n",
    "    \n",
    "    for i in range(n):\n",
    "        y = i + 1\n",
    "        width = st.t_total[i]\n",
    "        t0 = st.t0[i]\n",
    "        ax.barh(y, left=t0, width=width, height=height, **kwargs)\n",
    "\n",
    "fig = plt.figure(figsize=(12,6))\n",
    "figs['latency-hiding'] = fig\n",
    "axs = [fig.add_subplot(121), fig.add_subplot(122)]\n",
    "ii = (1, 2, 4)\n",
    "if best_idx not in ii:\n",
    "    ii += (best_idx,)\n",
    "\n",
    "best = xx_throughput[best_idx]\n",
    "N = min(40, best.t_total.shape[0])\n",
    "for i, c in zip(ii, ['C0', 'C1', 'C3', 'C2']):\n",
    "    st = xx_throughput[i]\n",
    "    for ax in axs:\n",
    "        add_hbar_plot(ax, st, n=N, \n",
    "                      color=c, \n",
    "                      alpha=0.4, \n",
    "                      linewidth=0, \n",
    "                      label='c{}'.format(st.nthreads))\n",
    "        ax.set_xlabel('ms')\n",
    "        ax.axis( ax.axis()[:2] + (1,N+1))\n",
    "\n",
    "axs[1].axis((0,750, *ax.axis()[2:]))\n",
    "axs[1].yaxis.set_visible(False)\n",
    "axs[1].legend()\n",
    "fig.tight_layout()"
   ]
  },
  {
   "cell_type": "markdown",
   "metadata": {},
   "source": [
    "## Throughput"
   ]
  },
  {
   "cell_type": "code",
   "execution_count": null,
   "metadata": {},
   "outputs": [],
   "source": [
    "fig = plt.figure(figsize=(16,6))\n",
    "figs['fps'] = fig\n",
    "ax = fig.add_subplot(111)\n",
    "\n",
    "mf = np.r_[[st.throughput for st in xx_throughput.values()]]\n",
    "\n",
    "for st in xx_throughput.values():\n",
    "    ax.plot(st.fps, 'k-', alpha=0.4, linewidth=0.7)\n",
    "\n",
    "for n in [1, 8, 16, 24, best_idx, nthreads.max()]:\n",
    "    if n not in xx_throughput:\n",
    "        continue\n",
    "    st = xx_throughput[n]\n",
    "    ax.plot(st.fps, '-', linewidth=2, label='c{}'.format(st.nthreads))\n",
    "\n",
    "ax.set_xlabel('Files proccessed')\n",
    "ax.set_ylabel('Files per second')\n",
    "ax.axis((-3, st.t_end.shape[0]+10) + ax.axis()[2:])\n",
    "ax.legend(loc='upper left');\n",
    "fig.tight_layout()"
   ]
  },
  {
   "cell_type": "markdown",
   "metadata": {},
   "source": [
    "## Warmup Costs"
   ]
  },
  {
   "cell_type": "code",
   "execution_count": null,
   "metadata": {},
   "outputs": [],
   "source": [
    "dd = [xx_throughput[i]._raw for i in nthreads]\n",
    "if hasattr(dd[0], '_warmup'):\n",
    "    warmup_time = np.array([np.median([st.t_open for st in d._warmup.stats]) for d in dd])\n",
    "    wm_max = np.ceil(warmup_time.max()*10)/10 + 0.1\n",
    "\n",
    "    fig = plt.figure(figsize=(4,4))\n",
    "    figs['warmup'] = fig\n",
    "    ax = fig.add_subplot(111)\n",
    "    ax.barh(nthreads, warmup_time*1000, height=0.5, alpha=0.7)\n",
    "    ax.axis([0, wm_max*1000, 0.5, nthreads[-1]+1.5])\n",
    "    ax.yaxis.set_ticks([1, 8, 16, 24, 32, nthreads[-1]])\n",
    "    ax.set_xlabel('Median time to open first file (ms)')\n",
    "    ax.set_ylabel('Number of threads')\n",
    "    fig.tight_layout()\n",
    "else:\n",
    "    print('No warmup costs were captured')"
   ]
  },
  {
   "cell_type": "markdown",
   "metadata": {},
   "source": [
    "## Saving Figures"
   ]
  },
  {
   "cell_type": "code",
   "execution_count": null,
   "metadata": {},
   "outputs": [],
   "source": [
    "!mkdir -p report_images"
   ]
  },
  {
   "cell_type": "code",
   "execution_count": null,
   "metadata": {},
   "outputs": [],
   "source": [
    "defaults = dict(dpi=100)\n",
    "overrides = dict(warmup=dict(dpi=200))\n",
    "\n",
    "for name, fig in figs.items():\n",
    "    for fmt in ['svg', 'png']:\n",
    "        fname = './report_images/{name}.{fmt}'.format(name=name, fmt=fmt)\n",
    "        print('Saving to: ' + fname)\n",
    "        fig.savefig(fname, **overrides.get(name, defaults))"
   ]
  }
 ],
 "metadata": {
  "kernelspec": {
   "display_name": "Python 3",
   "language": "python",
   "name": "python3"
  },
  "language_info": {
   "codemirror_mode": {
    "name": "ipython",
    "version": 3
   },
   "file_extension": ".py",
   "mimetype": "text/x-python",
   "name": "python",
   "nbconvert_exporter": "python",
   "pygments_lexer": "ipython3",
   "version": "3.6.3"
  }
 },
 "nbformat": 4,
 "nbformat_minor": 2
}
